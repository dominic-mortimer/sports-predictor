{
 "cells": [
  {
   "cell_type": "code",
   "execution_count": 1,
   "metadata": {},
   "outputs": [],
   "source": [
    "import requests\n",
    "import json\n",
    "from time import sleep\n",
    "import pandas as pd\n",
    "import os\n",
    "import datetime"
   ]
  },
  {
   "cell_type": "code",
   "execution_count": 2,
   "metadata": {},
   "outputs": [
    {
     "ename": "IndentationError",
     "evalue": "expected an indented block (<ipython-input-2-602bbcd68e62>, line 48)",
     "output_type": "error",
     "traceback": [
      "\u001b[1;36m  File \u001b[1;32m\"<ipython-input-2-602bbcd68e62>\"\u001b[1;36m, line \u001b[1;32m48\u001b[0m\n\u001b[1;33m    path = 'data/'+str(name)+'.csv'\u001b[0m\n\u001b[1;37m    ^\u001b[0m\n\u001b[1;31mIndentationError\u001b[0m\u001b[1;31m:\u001b[0m expected an indented block\n"
     ]
    }
   ],
   "source": [
    "def get_date(days: int):\n",
    "    date = datetime.date.today() - datetime.timedelta(days=days)\n",
    "    return date.strftime('%m/%d/%Y')\n",
    "\n",
    "\n",
    "# Game by day\n",
    "dataset_to_keep = ['GameHeader','LineScore','LastMeeting','EastConfStandingsByDay','WestConfStandingsByDay']\n",
    "dfs = {}\n",
    "wait = True\n",
    "\n",
    "date = get_date(20)\n",
    "url = 'https://stats.nba.com/stats/scoreboardV2?DayOffset=0&LeagueID=00&gameDate='+date\n",
    "\n",
    "\n",
    "response = requests.get(url)\n",
    "status_200_ok = response.status_code == 200\n",
    "nb_error = 0\n",
    "\n",
    "print('made it here')\n",
    "\n",
    "while not status_200_ok and nb_error < 5:\n",
    "    print(response.status_code, url)\n",
    "    sleep(1)\n",
    "    response = requests.get(url)\n",
    "    status_200_ok = response.status_code == 200\n",
    "    nb_error += 1\n",
    "\n",
    "print(response.status_code, url)\n",
    "\n",
    "if nb_error < 5:\n",
    "    nba_day_json = response.json()\n",
    "\n",
    "    for dataset in nba_day_json['resultSets']:\n",
    "        df_name = dataset['name']\n",
    "        df_head = dataset['headers']\n",
    "        df_rows = dataset['rowSet']\n",
    "        if df_name not in dataset_to_keep:\n",
    "            continue\n",
    "\n",
    "        new_df = pd.DataFrame(df_rows, columns=df_head)\n",
    "        if df_name not in dfs:\n",
    "            dfs[df_name] = new_df\n",
    "        else: \n",
    "            dfs[df_name] = pd.concat([dfs[df_name], new_df])\n",
    "\n",
    "\n",
    "for name in dfs:\n",
    "    path = 'data/'+str(name)+'.csv'\n",
    "    if os.path.isfile(path):\n",
    "        print(exist) \n",
    "    dfs[name].to_csv(path, index=False)"
   ]
  }
 ],
 "metadata": {
  "kernelspec": {
   "display_name": "Python 3",
   "language": "python",
   "name": "python3"
  },
  "language_info": {
   "codemirror_mode": {
    "name": "ipython",
    "version": 3
   },
   "file_extension": ".py",
   "mimetype": "text/x-python",
   "name": "python",
   "nbconvert_exporter": "python",
   "pygments_lexer": "ipython3",
   "version": "3.8.5"
  }
 },
 "nbformat": 4,
 "nbformat_minor": 4
}
